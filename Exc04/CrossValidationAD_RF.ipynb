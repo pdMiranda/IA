{
  "cells": [
    {
      "cell_type": "markdown",
      "metadata": {
        "id": "_bPVTxb4akHi"
      },
      "source": [
        "**Vamos experimentar agora o algoritmo Decision Tree?**"
      ]
    },
    {
      "cell_type": "code",
      "execution_count": 1,
      "metadata": {
        "id": "fpe0EYaXiIPm"
      },
      "outputs": [],
      "source": [
        "!pip -q install yellowbrick"
      ]
    },
    {
      "cell_type": "code",
      "execution_count": 2,
      "metadata": {
        "id": "ru9xg6QIaceV"
      },
      "outputs": [],
      "source": [
        "import pandas as pd\n",
        "import numpy as np\n",
        "import seaborn as sns\n",
        "import matplotlib.pyplot as plt\n",
        "import plotly.express as px\n",
        "from sklearn.tree import DecisionTreeClassifier\n",
        "from sklearn.ensemble import RandomForestClassifier\n",
        "from sklearn.model_selection import cross_val_score\n",
        "from sklearn.metrics import accuracy_score, precision_score, recall_score, f1_score\n",
        "from sklearn.model_selection import KFold"
      ]
    },
    {
      "cell_type": "code",
      "execution_count": 3,
      "metadata": {
        "id": "STeZ46Y4bKfl"
      },
      "outputs": [],
      "source": [
        "import pickle\n",
        "with open('/content/sample_data/iris.pkl', 'rb') as f:\n",
        "  X_treino, X_teste, y_treino, y_teste = pickle.load(f)"
      ]
    },
    {
      "cell_type": "markdown",
      "metadata": {
        "id": "Toi3zdRoGxLo"
      },
      "source": [
        "Usando o método de amostragem holdout"
      ]
    },
    {
      "cell_type": "code",
      "execution_count": 4,
      "metadata": {
        "id": "NKSzfX4-GwXX"
      },
      "outputs": [
        {
          "ename": "NameError",
          "evalue": "name 'modelo' is not defined",
          "output_type": "error",
          "traceback": [
            "\u001b[0;31m---------------------------------------------------------------------------\u001b[0m",
            "\u001b[0;31mNameError\u001b[0m                                 Traceback (most recent call last)",
            "\u001b[1;32m/home/pedro/Codes/IA/Exc04/CrossValidationAD_RF.ipynb Cell 6\u001b[0m line \u001b[0;36m1\n\u001b[0;32m----> <a href='vscode-notebook-cell://wsl%2Bubuntu-22.04/home/pedro/Codes/IA/Exc04/CrossValidationAD_RF.ipynb#W5sdnNjb2RlLXJlbW90ZQ%3D%3D?line=0'>1</a>\u001b[0m modelo\u001b[39m.\u001b[39mfit(X_treino, y_treino)\n\u001b[1;32m      <a href='vscode-notebook-cell://wsl%2Bubuntu-22.04/home/pedro/Codes/IA/Exc04/CrossValidationAD_RF.ipynb#W5sdnNjb2RlLXJlbW90ZQ%3D%3D?line=1'>2</a>\u001b[0m test_score \u001b[39m=\u001b[39m modelo\u001b[39m.\u001b[39mscore(X_teste, y_teste)\n",
            "\u001b[0;31mNameError\u001b[0m: name 'modelo' is not defined"
          ]
        }
      ],
      "source": [
        "modelo.fit(X_treino, y_treino)\n",
        "\n",
        "test_score = modelo.score(X_teste, y_teste)"
      ]
    },
    {
      "cell_type": "code",
      "execution_count": null,
      "metadata": {
        "id": "jEdiwgIIDnhR"
      },
      "outputs": [],
      "source": [
        "kf = KFold(n_splits=10, shuffle=True, random_state=42)"
      ]
    },
    {
      "cell_type": "code",
      "execution_count": null,
      "metadata": {
        "colab": {
          "base_uri": "https://localhost:8080/"
        },
        "id": "hVW22XucaswH",
        "outputId": "f6ff646d-7bb3-4a76-814f-e73db2b563fe"
      },
      "outputs": [
        {
          "name": "stdout",
          "output_type": "stream",
          "text": [
            "Acurácia média da Árvore: [0.83333333 0.91666667 1.         0.91666667 0.91666667 1.\n",
            " 0.91666667 1.         0.91666667 1.        ] 0.9416666666666667 +- 0.05335936864527374\n",
            "Acurácia média do RF: [0.83333333 0.91666667 1.         1.         0.91666667 1.\n",
            " 0.91666667 1.         0.91666667 1.        ] 0.95 +- 0.05527707983925667\n"
          ]
        }
      ],
      "source": [
        "modelo = DecisionTreeClassifier(criterion='gini', max_depth=3)\n",
        "modelo2 = RandomForestClassifier(n_estimators=30, max_depth=5, max_features=\"sqrt\")\n",
        "scoresAD = cross_val_score(modelo, X_treino, y_treino, cv=kf)\n",
        "scoresRF = cross_val_score(modelo2, X_treino, y_treino, cv=kf)\n",
        "print(\"Acurácia média da Árvore:\", scoresAD, scoresAD.mean(), \"+-\", scoresAD.std())\n",
        "print(\"Acurácia média do RF:\", scoresRF, scoresRF.mean(), \"+-\", scoresRF.std())"
      ]
    },
    {
      "cell_type": "code",
      "execution_count": null,
      "metadata": {
        "id": "XIrTn989EGtf"
      },
      "outputs": [],
      "source": []
    }
  ],
  "metadata": {
    "colab": {
      "provenance": []
    },
    "kernelspec": {
      "display_name": "Python 3",
      "name": "python3"
    },
    "language_info": {
      "codemirror_mode": {
        "name": "ipython",
        "version": 3
      },
      "file_extension": ".py",
      "mimetype": "text/x-python",
      "name": "python",
      "nbconvert_exporter": "python",
      "pygments_lexer": "ipython3",
      "version": "3.10.12"
    }
  },
  "nbformat": 4,
  "nbformat_minor": 0
}
