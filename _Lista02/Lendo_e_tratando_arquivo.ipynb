{
  "cells": [
    {
      "cell_type": "markdown",
      "metadata": {
        "id": "WYfovYvpPtHN"
      },
      "source": [
        "**Atualizando a biblioteca para plotagem de gráficos**\n"
      ]
    },
    {
      "cell_type": "code",
      "execution_count": 11,
      "metadata": {
        "id": "hTIKXbn7PfB3"
      },
      "outputs": [],
      "source": [
        "!pip -q install plotly --upgrade"
      ]
    },
    {
      "cell_type": "markdown",
      "metadata": {
        "id": "vWFW_ECYPktU"
      },
      "source": [
        "**Importando bibliotecas**"
      ]
    },
    {
      "cell_type": "code",
      "execution_count": 12,
      "metadata": {
        "id": "kkOvJnL-P1QQ"
      },
      "outputs": [],
      "source": [
        "import pandas as pd\n",
        "import numpy as np\n",
        "import seaborn as sns\n",
        "import matplotlib.pyplot as plt\n",
        "import plotly.express as px"
      ]
    },
    {
      "cell_type": "code",
      "execution_count": null,
      "metadata": {
        "id": "Z-taahtkVxFc"
      },
      "outputs": [],
      "source": []
    },
    {
      "cell_type": "markdown",
      "metadata": {
        "id": "A5YB5ubEQfaE"
      },
      "source": [
        "**Abrindo um arquivo CSV do drive**"
      ]
    },
    {
      "cell_type": "code",
      "execution_count": 21,
      "metadata": {
        "colab": {
          "base_uri": "https://localhost:8080/"
        },
        "id": "3rzDkhcBQddF",
        "outputId": "c2c49d6d-886b-481f-c414-e54480de3355"
      },
      "outputs": [],
      "source": [
        "base = pd.read_csv('../_Base/restaurantev2.csv', sep=';', encoding='latin1')\n"
      ]
    },
    {
      "cell_type": "markdown",
      "metadata": {
        "id": "y-g8wDMln18q"
      },
      "source": [
        "**Você também pode carregar seu arquivo e já selecionar as colunas que desejar... investigue esta função**"
      ]
    },
    {
      "cell_type": "code",
      "execution_count": 14,
      "metadata": {
        "id": "i8-ualmHV-VU"
      },
      "outputs": [],
      "source": [
        "#base2 = pd.read_csv('/content/sample_data/restaurante.csv', ';', usecols=['Alternativo', 'Bar'])\n",
        "#base2"
      ]
    },
    {
      "cell_type": "code",
      "execution_count": 22,
      "metadata": {
        "colab": {
          "base_uri": "https://localhost:8080/",
          "height": 426
        },
        "id": "SFVtNXxPUAnR",
        "outputId": "e753a7b0-b42d-4dfd-bb83-6863ff1e6d58"
      },
      "outputs": [
        {
          "data": {
            "text/html": [
              "<div>\n",
              "<style scoped>\n",
              "    .dataframe tbody tr th:only-of-type {\n",
              "        vertical-align: middle;\n",
              "    }\n",
              "\n",
              "    .dataframe tbody tr th {\n",
              "        vertical-align: top;\n",
              "    }\n",
              "\n",
              "    .dataframe thead th {\n",
              "        text-align: right;\n",
              "    }\n",
              "</style>\n",
              "<table border=\"1\" class=\"dataframe\">\n",
              "  <thead>\n",
              "    <tr style=\"text-align: right;\">\n",
              "      <th></th>\n",
              "      <th>Exemplo</th>\n",
              "      <th>Alternativo</th>\n",
              "      <th>Bar</th>\n",
              "      <th>Sex/Sab</th>\n",
              "      <th>fome</th>\n",
              "      <th>Cliente</th>\n",
              "      <th>Preço</th>\n",
              "      <th>Chuva</th>\n",
              "      <th>Res</th>\n",
              "      <th>Tipo</th>\n",
              "      <th>Tempo</th>\n",
              "      <th>conc</th>\n",
              "    </tr>\n",
              "  </thead>\n",
              "  <tbody>\n",
              "    <tr>\n",
              "      <th>0</th>\n",
              "      <td>X1</td>\n",
              "      <td>Sim</td>\n",
              "      <td>Não</td>\n",
              "      <td>Não</td>\n",
              "      <td>Sim</td>\n",
              "      <td>Alguns</td>\n",
              "      <td>RRR</td>\n",
              "      <td>Não</td>\n",
              "      <td>Sim</td>\n",
              "      <td>Francês</td>\n",
              "      <td>0-10</td>\n",
              "      <td>Sim</td>\n",
              "    </tr>\n",
              "    <tr>\n",
              "      <th>1</th>\n",
              "      <td>x2</td>\n",
              "      <td>Sim</td>\n",
              "      <td>Não</td>\n",
              "      <td>Não</td>\n",
              "      <td>Sim</td>\n",
              "      <td>Cheio</td>\n",
              "      <td>R</td>\n",
              "      <td>Não</td>\n",
              "      <td>Não</td>\n",
              "      <td>Tailandês</td>\n",
              "      <td>30-60</td>\n",
              "      <td>Não</td>\n",
              "    </tr>\n",
              "    <tr>\n",
              "      <th>2</th>\n",
              "      <td>x3</td>\n",
              "      <td>Não</td>\n",
              "      <td>Sim</td>\n",
              "      <td>Não</td>\n",
              "      <td>Não</td>\n",
              "      <td>Alguns</td>\n",
              "      <td>R</td>\n",
              "      <td>Não</td>\n",
              "      <td>Não</td>\n",
              "      <td>Hamburger</td>\n",
              "      <td>0-10</td>\n",
              "      <td>Sim</td>\n",
              "    </tr>\n",
              "    <tr>\n",
              "      <th>3</th>\n",
              "      <td>x4</td>\n",
              "      <td>Sim</td>\n",
              "      <td>Não</td>\n",
              "      <td>Sim</td>\n",
              "      <td>Sim</td>\n",
              "      <td>Cheio</td>\n",
              "      <td>R</td>\n",
              "      <td>Sim</td>\n",
              "      <td>Não</td>\n",
              "      <td>Tailandês</td>\n",
              "      <td>out/30</td>\n",
              "      <td>Sim</td>\n",
              "    </tr>\n",
              "    <tr>\n",
              "      <th>4</th>\n",
              "      <td>X5</td>\n",
              "      <td>Sim</td>\n",
              "      <td>Não</td>\n",
              "      <td>Sim</td>\n",
              "      <td>Não</td>\n",
              "      <td>Cheio</td>\n",
              "      <td>RRR</td>\n",
              "      <td>Não</td>\n",
              "      <td>Sim</td>\n",
              "      <td>Francês</td>\n",
              "      <td>&gt;60</td>\n",
              "      <td>Não</td>\n",
              "    </tr>\n",
              "    <tr>\n",
              "      <th>5</th>\n",
              "      <td>X6</td>\n",
              "      <td>Não</td>\n",
              "      <td>Sim</td>\n",
              "      <td>Não</td>\n",
              "      <td>Sim</td>\n",
              "      <td>Alguns</td>\n",
              "      <td>RR</td>\n",
              "      <td>Sim</td>\n",
              "      <td>Sim</td>\n",
              "      <td>Italiano</td>\n",
              "      <td>0-10</td>\n",
              "      <td>Sim</td>\n",
              "    </tr>\n",
              "    <tr>\n",
              "      <th>6</th>\n",
              "      <td>X7</td>\n",
              "      <td>Não</td>\n",
              "      <td>Sim</td>\n",
              "      <td>Não</td>\n",
              "      <td>Não</td>\n",
              "      <td>Nenhum</td>\n",
              "      <td>R</td>\n",
              "      <td>Sim</td>\n",
              "      <td>Não</td>\n",
              "      <td>Hamburger</td>\n",
              "      <td>0-10</td>\n",
              "      <td>Não</td>\n",
              "    </tr>\n",
              "    <tr>\n",
              "      <th>7</th>\n",
              "      <td>X8</td>\n",
              "      <td>Não</td>\n",
              "      <td>Não</td>\n",
              "      <td>Não</td>\n",
              "      <td>Sim</td>\n",
              "      <td>Alguns</td>\n",
              "      <td>RR</td>\n",
              "      <td>Sim</td>\n",
              "      <td>Sim</td>\n",
              "      <td>Tailandês</td>\n",
              "      <td>0-10</td>\n",
              "      <td>Sim</td>\n",
              "    </tr>\n",
              "    <tr>\n",
              "      <th>8</th>\n",
              "      <td>X9</td>\n",
              "      <td>Não</td>\n",
              "      <td>Sim</td>\n",
              "      <td>Sim</td>\n",
              "      <td>Não</td>\n",
              "      <td>Cheio</td>\n",
              "      <td>R</td>\n",
              "      <td>Sim</td>\n",
              "      <td>Não</td>\n",
              "      <td>Hamburger</td>\n",
              "      <td>&gt;60</td>\n",
              "      <td>Não</td>\n",
              "    </tr>\n",
              "    <tr>\n",
              "      <th>9</th>\n",
              "      <td>X10</td>\n",
              "      <td>Sim</td>\n",
              "      <td>Sim</td>\n",
              "      <td>Sim</td>\n",
              "      <td>Sim</td>\n",
              "      <td>Cheio</td>\n",
              "      <td>RRR</td>\n",
              "      <td>Não</td>\n",
              "      <td>Sim</td>\n",
              "      <td>Italiano</td>\n",
              "      <td>out/30</td>\n",
              "      <td>Não</td>\n",
              "    </tr>\n",
              "    <tr>\n",
              "      <th>10</th>\n",
              "      <td>X11</td>\n",
              "      <td>Não</td>\n",
              "      <td>Não</td>\n",
              "      <td>Não</td>\n",
              "      <td>Não</td>\n",
              "      <td>Nenhum</td>\n",
              "      <td>R</td>\n",
              "      <td>Não</td>\n",
              "      <td>Não</td>\n",
              "      <td>Tailandês</td>\n",
              "      <td>0-10</td>\n",
              "      <td>Não</td>\n",
              "    </tr>\n",
              "    <tr>\n",
              "      <th>11</th>\n",
              "      <td>X12</td>\n",
              "      <td>Sim</td>\n",
              "      <td>Sim</td>\n",
              "      <td>Sim</td>\n",
              "      <td>Sim</td>\n",
              "      <td>Cheio</td>\n",
              "      <td>R</td>\n",
              "      <td>Não</td>\n",
              "      <td>Não</td>\n",
              "      <td>Hamburger</td>\n",
              "      <td>30-60</td>\n",
              "      <td>Sim</td>\n",
              "    </tr>\n",
              "  </tbody>\n",
              "</table>\n",
              "</div>"
            ],
            "text/plain": [
              "   Exemplo Alternativo  Bar Sex/Sab fome Cliente Preço Chuva  Res       Tipo  \\\n",
              "0       X1         Sim  Não     Não  Sim  Alguns   RRR   Não  Sim    Francês   \n",
              "1       x2         Sim  Não     Não  Sim   Cheio     R   Não  Não  Tailandês   \n",
              "2       x3         Não  Sim     Não  Não  Alguns     R   Não  Não  Hamburger   \n",
              "3       x4         Sim  Não     Sim  Sim   Cheio     R   Sim  Não  Tailandês   \n",
              "4       X5         Sim  Não     Sim  Não   Cheio   RRR   Não  Sim    Francês   \n",
              "5       X6         Não  Sim     Não  Sim  Alguns    RR   Sim  Sim   Italiano   \n",
              "6       X7         Não  Sim     Não  Não  Nenhum     R   Sim  Não  Hamburger   \n",
              "7       X8         Não  Não     Não  Sim  Alguns    RR   Sim  Sim  Tailandês   \n",
              "8       X9         Não  Sim     Sim  Não   Cheio     R   Sim  Não  Hamburger   \n",
              "9      X10         Sim  Sim     Sim  Sim   Cheio   RRR   Não  Sim   Italiano   \n",
              "10     X11         Não  Não     Não  Não  Nenhum     R   Não  Não  Tailandês   \n",
              "11     X12         Sim  Sim     Sim  Sim   Cheio     R   Não  Não  Hamburger   \n",
              "\n",
              "     Tempo conc  \n",
              "0     0-10  Sim  \n",
              "1    30-60  Não  \n",
              "2     0-10  Sim  \n",
              "3   out/30  Sim  \n",
              "4      >60  Não  \n",
              "5     0-10  Sim  \n",
              "6     0-10  Não  \n",
              "7     0-10  Sim  \n",
              "8      >60  Não  \n",
              "9   out/30  Não  \n",
              "10    0-10  Não  \n",
              "11   30-60  Sim  "
            ]
          },
          "execution_count": 22,
          "metadata": {},
          "output_type": "execute_result"
        }
      ],
      "source": [
        "base"
      ]
    },
    {
      "cell_type": "code",
      "execution_count": 16,
      "metadata": {
        "colab": {
          "base_uri": "https://localhost:8080/",
          "height": 143
        },
        "id": "WtFD-X3YVI4B",
        "outputId": "9dd2b8de-dd23-4997-a3bd-06afe458d138"
      },
      "outputs": [
        {
          "data": {
            "text/html": [
              "<div>\n",
              "<style scoped>\n",
              "    .dataframe tbody tr th:only-of-type {\n",
              "        vertical-align: middle;\n",
              "    }\n",
              "\n",
              "    .dataframe tbody tr th {\n",
              "        vertical-align: top;\n",
              "    }\n",
              "\n",
              "    .dataframe thead th {\n",
              "        text-align: right;\n",
              "    }\n",
              "</style>\n",
              "<table border=\"1\" class=\"dataframe\">\n",
              "  <thead>\n",
              "    <tr style=\"text-align: right;\">\n",
              "      <th></th>\n",
              "      <th>Exemplo;Alternativo;Bar;Sex/Sab;fome;Cliente;Preço;Chuva;Res;Tipo;Tempo;conc</th>\n",
              "    </tr>\n",
              "  </thead>\n",
              "  <tbody>\n",
              "    <tr>\n",
              "      <th>0</th>\n",
              "      <td>X1;Sim;Não;Não;Sim;Alguns;RRR;Não;Sim;Francês;...</td>\n",
              "    </tr>\n",
              "    <tr>\n",
              "      <th>1</th>\n",
              "      <td>x2;Sim;Não;Não;Sim;Cheio;R;Não;Não;Tailandês;3...</td>\n",
              "    </tr>\n",
              "    <tr>\n",
              "      <th>2</th>\n",
              "      <td>x3;Não;Sim;Não;Não;Alguns;R;Não;Não;Hamburger;...</td>\n",
              "    </tr>\n",
              "  </tbody>\n",
              "</table>\n",
              "</div>"
            ],
            "text/plain": [
              "  Exemplo;Alternativo;Bar;Sex/Sab;fome;Cliente;Preço;Chuva;Res;Tipo;Tempo;conc\n",
              "0  X1;Sim;Não;Não;Sim;Alguns;RRR;Não;Sim;Francês;...                          \n",
              "1  x2;Sim;Não;Não;Sim;Cheio;R;Não;Não;Tailandês;3...                          \n",
              "2  x3;Não;Sim;Não;Não;Alguns;R;Não;Não;Hamburger;...                          "
            ]
          },
          "execution_count": 16,
          "metadata": {},
          "output_type": "execute_result"
        }
      ],
      "source": [
        "base.head(3)"
      ]
    },
    {
      "cell_type": "code",
      "execution_count": 17,
      "metadata": {
        "colab": {
          "base_uri": "https://localhost:8080/",
          "height": 112
        },
        "id": "0VKCjaDIVTMc",
        "outputId": "0a0c483a-7a56-4ec2-db7c-43d25f6451d5"
      },
      "outputs": [
        {
          "data": {
            "text/html": [
              "<div>\n",
              "<style scoped>\n",
              "    .dataframe tbody tr th:only-of-type {\n",
              "        vertical-align: middle;\n",
              "    }\n",
              "\n",
              "    .dataframe tbody tr th {\n",
              "        vertical-align: top;\n",
              "    }\n",
              "\n",
              "    .dataframe thead th {\n",
              "        text-align: right;\n",
              "    }\n",
              "</style>\n",
              "<table border=\"1\" class=\"dataframe\">\n",
              "  <thead>\n",
              "    <tr style=\"text-align: right;\">\n",
              "      <th></th>\n",
              "      <th>Exemplo;Alternativo;Bar;Sex/Sab;fome;Cliente;Preço;Chuva;Res;Tipo;Tempo;conc</th>\n",
              "    </tr>\n",
              "  </thead>\n",
              "  <tbody>\n",
              "    <tr>\n",
              "      <th>10</th>\n",
              "      <td>X11;Não;Não;Não;Não;Nenhum;R;Não;Não;Tailandês...</td>\n",
              "    </tr>\n",
              "    <tr>\n",
              "      <th>11</th>\n",
              "      <td>X12;Sim;Sim;Sim;Sim;Cheio;R;Não;Não;Hamburger;...</td>\n",
              "    </tr>\n",
              "  </tbody>\n",
              "</table>\n",
              "</div>"
            ],
            "text/plain": [
              "   Exemplo;Alternativo;Bar;Sex/Sab;fome;Cliente;Preço;Chuva;Res;Tipo;Tempo;conc\n",
              "10  X11;Não;Não;Não;Não;Nenhum;R;Não;Não;Tailandês...                          \n",
              "11  X12;Sim;Sim;Sim;Sim;Cheio;R;Não;Não;Hamburger;...                          "
            ]
          },
          "execution_count": 17,
          "metadata": {},
          "output_type": "execute_result"
        }
      ],
      "source": [
        "base.tail(2)"
      ]
    },
    {
      "cell_type": "markdown",
      "metadata": {
        "id": "nnxpN2abg5eN"
      },
      "source": [
        "**Contando quantidade de instâncias**\n"
      ]
    },
    {
      "cell_type": "code",
      "execution_count": 23,
      "metadata": {
        "colab": {
          "base_uri": "https://localhost:8080/"
        },
        "id": "xgR2Os49WO3d",
        "outputId": "0259ff4f-b9cb-4380-c2bd-00f3912f6577"
      },
      "outputs": [
        {
          "data": {
            "text/plain": [
              "(array(['Não', 'Sim'], dtype=object), array([6, 6]))"
            ]
          },
          "execution_count": 23,
          "metadata": {},
          "output_type": "execute_result"
        }
      ],
      "source": [
        "np.unique(base['conc'], return_counts=True)"
      ]
    },
    {
      "cell_type": "code",
      "execution_count": 24,
      "metadata": {
        "colab": {
          "base_uri": "https://localhost:8080/",
          "height": 279
        },
        "id": "n-DOy3oXXG4N",
        "outputId": "b546a15c-5769-4691-e4e6-f9303cc76a76"
      },
      "outputs": [
        {
          "data": {
            "image/png": "[encoded data removed]",
            "text/plain": [
              "<Figure size 640x480 with 1 Axes>"
            ]
          },
          "metadata": {},
          "output_type": "display_data"
        }
      ],
      "source": [
        "sns.countplot(x = base['conc']);"
      ]
    },
    {
      "cell_type": "markdown",
      "metadata": {
        "id": "MYJpg6Q8hH8i"
      },
      "source": [
        "**Separando os atributos de entrada e de classe**"
      ]
    },
    {
      "cell_type": "code",
      "execution_count": 25,
      "metadata": {
        "id": "9EPdNWJIXPm2"
      },
      "outputs": [],
      "source": [
        "X_prev = base.iloc[:, 0:10].values"
      ]
    },
    {
      "cell_type": "code",
      "execution_count": 26,
      "metadata": {
        "colab": {
          "base_uri": "https://localhost:8080/"
        },
        "id": "zYITR2Kv6X1F",
        "outputId": "6ba96642-d2e2-4ac0-ade0-a919477934d6"
      },
      "outputs": [
        {
          "data": {
            "text/plain": [
              "array([['X1', 'Sim', 'Não', 'Não', 'Sim', 'Alguns', 'RRR', 'Não', 'Sim',\n",
              "        'Francês'],\n",
              "       ['x2', 'Sim', 'Não', 'Não', 'Sim', 'Cheio', 'R', 'Não', 'Não',\n",
              "        'Tailandês'],\n",
              "       ['x3', 'Não', 'Sim', 'Não', 'Não', 'Alguns', 'R', 'Não', 'Não',\n",
              "        'Hamburger'],\n",
              "       ['x4', 'Sim', 'Não', 'Sim', 'Sim', 'Cheio', 'R', 'Sim', 'Não',\n",
              "        'Tailandês'],\n",
              "       ['X5', 'Sim', 'Não', 'Sim', 'Não', 'Cheio', 'RRR', 'Não', 'Sim',\n",
              "        'Francês'],\n",
              "       ['X6', 'Não', 'Sim', 'Não', 'Sim', 'Alguns', 'RR', 'Sim', 'Sim',\n",
              "        'Italiano'],\n",
              "       ['X7', 'Não', 'Sim', 'Não', 'Não', 'Nenhum', 'R', 'Sim', 'Não',\n",
              "        'Hamburger'],\n",
              "       ['X8', 'Não', 'Não', 'Não', 'Sim', 'Alguns', 'RR', 'Sim', 'Sim',\n",
              "        'Tailandês'],\n",
              "       ['X9', 'Não', 'Sim', 'Sim', 'Não', 'Cheio', 'R', 'Sim', 'Não',\n",
              "        'Hamburger'],\n",
              "       ['X10', 'Sim', 'Sim', 'Sim', 'Sim', 'Cheio', 'RRR', 'Não', 'Sim',\n",
              "        'Italiano'],\n",
              "       ['X11', 'Não', 'Não', 'Não', 'Não', 'Nenhum', 'R', 'Não', 'Não',\n",
              "        'Tailandês'],\n",
              "       ['X12', 'Sim', 'Sim', 'Sim', 'Sim', 'Cheio', 'R', 'Não', 'Não',\n",
              "        'Hamburger']], dtype=object)"
            ]
          },
          "execution_count": 26,
          "metadata": {},
          "output_type": "execute_result"
        }
      ],
      "source": [
        "X_prev"
      ]
    },
    {
      "cell_type": "code",
      "execution_count": 27,
      "metadata": {
        "id": "35DXGBG46LQ1"
      },
      "outputs": [],
      "source": [
        "X_prev_label = base.iloc[:, 0:10]"
      ]
    },
    {
      "cell_type": "code",
      "execution_count": 28,
      "metadata": {
        "colab": {
          "base_uri": "https://localhost:8080/",
          "height": 426
        },
        "id": "IOfUln-yf13F",
        "outputId": "333e08e4-2fde-4511-8e5c-e32338e6a261"
      },
      "outputs": [
        {
          "data": {
            "text/html": [
              "<div>\n",
              "<style scoped>\n",
              "    .dataframe tbody tr th:only-of-type {\n",
              "        vertical-align: middle;\n",
              "    }\n",
              "\n",
              "    .dataframe tbody tr th {\n",
              "        vertical-align: top;\n",
              "    }\n",
              "\n",
              "    .dataframe thead th {\n",
              "        text-align: right;\n",
              "    }\n",
              "</style>\n",
              "<table border=\"1\" class=\"dataframe\">\n",
              "  <thead>\n",
              "    <tr style=\"text-align: right;\">\n",
              "      <th></th>\n",
              "      <th>Exemplo</th>\n",
              "      <th>Alternativo</th>\n",
              "      <th>Bar</th>\n",
              "      <th>Sex/Sab</th>\n",
              "      <th>fome</th>\n",
              "      <th>Cliente</th>\n",
              "      <th>Preço</th>\n",
              "      <th>Chuva</th>\n",
              "      <th>Res</th>\n",
              "      <th>Tipo</th>\n",
              "    </tr>\n",
              "  </thead>\n",
              "  <tbody>\n",
              "    <tr>\n",
              "      <th>0</th>\n",
              "      <td>X1</td>\n",
              "      <td>Sim</td>\n",
              "      <td>Não</td>\n",
              "      <td>Não</td>\n",
              "      <td>Sim</td>\n",
              "      <td>Alguns</td>\n",
              "      <td>RRR</td>\n",
              "      <td>Não</td>\n",
              "      <td>Sim</td>\n",
              "      <td>Francês</td>\n",
              "    </tr>\n",
              "    <tr>\n",
              "      <th>1</th>\n",
              "      <td>x2</td>\n",
              "      <td>Sim</td>\n",
              "      <td>Não</td>\n",
              "      <td>Não</td>\n",
              "      <td>Sim</td>\n",
              "      <td>Cheio</td>\n",
              "      <td>R</td>\n",
              "      <td>Não</td>\n",
              "      <td>Não</td>\n",
              "      <td>Tailandês</td>\n",
              "    </tr>\n",
              "    <tr>\n",
              "      <th>2</th>\n",
              "      <td>x3</td>\n",
              "      <td>Não</td>\n",
              "      <td>Sim</td>\n",
              "      <td>Não</td>\n",
              "      <td>Não</td>\n",
              "      <td>Alguns</td>\n",
              "      <td>R</td>\n",
              "      <td>Não</td>\n",
              "      <td>Não</td>\n",
              "      <td>Hamburger</td>\n",
              "    </tr>\n",
              "    <tr>\n",
              "      <th>3</th>\n",
              "      <td>x4</td>\n",
              "      <td>Sim</td>\n",
              "      <td>Não</td>\n",
              "      <td>Sim</td>\n",
              "      <td>Sim</td>\n",
              "      <td>Cheio</td>\n",
              "      <td>R</td>\n",
              "      <td>Sim</td>\n",
              "      <td>Não</td>\n",
              "      <td>Tailandês</td>\n",
              "    </tr>\n",
              "    <tr>\n",
              "      <th>4</th>\n",
              "      <td>X5</td>\n",
              "      <td>Sim</td>\n",
              "      <td>Não</td>\n",
              "      <td>Sim</td>\n",
              "      <td>Não</td>\n",
              "      <td>Cheio</td>\n",
              "      <td>RRR</td>\n",
              "      <td>Não</td>\n",
              "      <td>Sim</td>\n",
              "      <td>Francês</td>\n",
              "    </tr>\n",
              "    <tr>\n",
              "      <th>5</th>\n",
              "      <td>X6</td>\n",
              "      <td>Não</td>\n",
              "      <td>Sim</td>\n",
              "      <td>Não</td>\n",
              "      <td>Sim</td>\n",
              "      <td>Alguns</td>\n",
              "      <td>RR</td>\n",
              "      <td>Sim</td>\n",
              "      <td>Sim</td>\n",
              "      <td>Italiano</td>\n",
              "    </tr>\n",
              "    <tr>\n",
              "      <th>6</th>\n",
              "      <td>X7</td>\n",
              "      <td>Não</td>\n",
              "      <td>Sim</td>\n",
              "      <td>Não</td>\n",
              "      <td>Não</td>\n",
              "      <td>Nenhum</td>\n",
              "      <td>R</td>\n",
              "      <td>Sim</td>\n",
              "      <td>Não</td>\n",
              "      <td>Hamburger</td>\n",
              "    </tr>\n",
              "    <tr>\n",
              "      <th>7</th>\n",
              "      <td>X8</td>\n",
              "      <td>Não</td>\n",
              "      <td>Não</td>\n",
              "      <td>Não</td>\n",
              "      <td>Sim</td>\n",
              "      <td>Alguns</td>\n",
              "      <td>RR</td>\n",
              "      <td>Sim</td>\n",
              "      <td>Sim</td>\n",
              "      <td>Tailandês</td>\n",
              "    </tr>\n",
              "    <tr>\n",
              "      <th>8</th>\n",
              "      <td>X9</td>\n",
              "      <td>Não</td>\n",
              "      <td>Sim</td>\n",
              "      <td>Sim</td>\n",
              "      <td>Não</td>\n",
              "      <td>Cheio</td>\n",
              "      <td>R</td>\n",
              "      <td>Sim</td>\n",
              "      <td>Não</td>\n",
              "      <td>Hamburger</td>\n",
              "    </tr>\n",
              "    <tr>\n",
              "      <th>9</th>\n",
              "      <td>X10</td>\n",
              "      <td>Sim</td>\n",
              "      <td>Sim</td>\n",
              "      <td>Sim</td>\n",
              "      <td>Sim</td>\n",
              "      <td>Cheio</td>\n",
              "      <td>RRR</td>\n",
              "      <td>Não</td>\n",
              "      <td>Sim</td>\n",
              "      <td>Italiano</td>\n",
              "    </tr>\n",
              "    <tr>\n",
              "      <th>10</th>\n",
              "      <td>X11</td>\n",
              "      <td>Não</td>\n",
              "      <td>Não</td>\n",
              "      <td>Não</td>\n",
              "      <td>Não</td>\n",
              "      <td>Nenhum</td>\n",
              "      <td>R</td>\n",
              "      <td>Não</td>\n",
              "      <td>Não</td>\n",
              "      <td>Tailandês</td>\n",
              "    </tr>\n",
              "    <tr>\n",
              "      <th>11</th>\n",
              "      <td>X12</td>\n",
              "      <td>Sim</td>\n",
              "      <td>Sim</td>\n",
              "      <td>Sim</td>\n",
              "      <td>Sim</td>\n",
              "      <td>Cheio</td>\n",
              "      <td>R</td>\n",
              "      <td>Não</td>\n",
              "      <td>Não</td>\n",
              "      <td>Hamburger</td>\n",
              "    </tr>\n",
              "  </tbody>\n",
              "</table>\n",
              "</div>"
            ],
            "text/plain": [
              "   Exemplo Alternativo  Bar Sex/Sab fome Cliente Preço Chuva  Res       Tipo\n",
              "0       X1         Sim  Não     Não  Sim  Alguns   RRR   Não  Sim    Francês\n",
              "1       x2         Sim  Não     Não  Sim   Cheio     R   Não  Não  Tailandês\n",
              "2       x3         Não  Sim     Não  Não  Alguns     R   Não  Não  Hamburger\n",
              "3       x4         Sim  Não     Sim  Sim   Cheio     R   Sim  Não  Tailandês\n",
              "4       X5         Sim  Não     Sim  Não   Cheio   RRR   Não  Sim    Francês\n",
              "5       X6         Não  Sim     Não  Sim  Alguns    RR   Sim  Sim   Italiano\n",
              "6       X7         Não  Sim     Não  Não  Nenhum     R   Sim  Não  Hamburger\n",
              "7       X8         Não  Não     Não  Sim  Alguns    RR   Sim  Sim  Tailandês\n",
              "8       X9         Não  Sim     Sim  Não   Cheio     R   Sim  Não  Hamburger\n",
              "9      X10         Sim  Sim     Sim  Sim   Cheio   RRR   Não  Sim   Italiano\n",
              "10     X11         Não  Não     Não  Não  Nenhum     R   Não  Não  Tailandês\n",
              "11     X12         Sim  Sim     Sim  Sim   Cheio     R   Não  Não  Hamburger"
            ]
          },
          "execution_count": 28,
          "metadata": {},
          "output_type": "execute_result"
        }
      ],
      "source": [
        "X_prev_label"
      ]
    },
    {
      "cell_type": "code",
      "execution_count": 29,
      "metadata": {
        "colab": {
          "base_uri": "https://localhost:8080/"
        },
        "id": "tauFS_600OjB",
        "outputId": "31589063-6c1e-4631-ccac-e1a60192debe"
      },
      "outputs": [
        {
          "data": {
            "text/plain": [
              "array(['Alguns', 'Cheio', 'Alguns', 'Cheio', 'Cheio', 'Alguns', 'Nenhum',\n",
              "       'Alguns', 'Cheio', 'Cheio', 'Nenhum', 'Cheio'], dtype=object)"
            ]
          },
          "execution_count": 29,
          "metadata": {},
          "output_type": "execute_result"
        }
      ],
      "source": [
        "X_prev[:,5]"
      ]
    },
    {
      "cell_type": "code",
      "execution_count": 30,
      "metadata": {
        "id": "kLLl-H1ygy7y"
      },
      "outputs": [],
      "source": [
        "y_classe = base.iloc[:, 10].values"
      ]
    },
    {
      "cell_type": "code",
      "execution_count": 31,
      "metadata": {
        "colab": {
          "base_uri": "https://localhost:8080/"
        },
        "id": "XFnwVWk2hYzj",
        "outputId": "d7a7d0f3-ee76-47c2-bd13-1920d1e4546b"
      },
      "outputs": [
        {
          "data": {
            "text/plain": [
              "array(['0-10', '30-60', '0-10', 'out/30', '>60', '0-10', '0-10', '0-10',\n",
              "       '>60', 'out/30', '0-10', '30-60'], dtype=object)"
            ]
          },
          "execution_count": 31,
          "metadata": {},
          "output_type": "execute_result"
        }
      ],
      "source": [
        "y_classe"
      ]
    },
    {
      "cell_type": "markdown",
      "metadata": {
        "id": "A4y4I3XlXRZT"
      },
      "source": [
        "**Podemos fazer esta mesma divisão (separar as variáveis de entrada e saída) usando os comandos abaixo**"
      ]
    },
    {
      "cell_type": "code",
      "execution_count": 32,
      "metadata": {
        "id": "sXkdmFSnXQY0"
      },
      "outputs": [],
      "source": [
        "X = base.copy() \n",
        "y = X.pop('conc')"
      ]
    },
    {
      "cell_type": "markdown",
      "metadata": {
        "id": "xeaEnJuOij1V"
      },
      "source": [
        "**Tratamento de dados categóricos**"
      ]
    },
    {
      "cell_type": "markdown",
      "metadata": {
        "id": "3lW1I_-TiwUi"
      },
      "source": [
        "> *LabelEncoder - Vamos tratar os dados categóricos colocando 1, 2, 3 e etc**\n",
        "\n"
      ]
    },
    {
      "cell_type": "code",
      "execution_count": 33,
      "metadata": {
        "id": "bJftEzSbiorG"
      },
      "outputs": [],
      "source": [
        "from sklearn.preprocessing import LabelEncoder"
      ]
    },
    {
      "cell_type": "code",
      "execution_count": 34,
      "metadata": {
        "id": "zQDx5oLrjMCZ"
      },
      "outputs": [],
      "source": [
        "label_encoder = LabelEncoder()"
      ]
    },
    {
      "cell_type": "code",
      "execution_count": 35,
      "metadata": {
        "colab": {
          "base_uri": "https://localhost:8080/"
        },
        "id": "OFz5uXgNjZd7",
        "outputId": "8226385e-2d36-48d4-f5a6-ce6d2d339bd8"
      },
      "outputs": [
        {
          "data": {
            "text/plain": [
              "array(['X1', 'x2', 'x3', 'x4', 'X5', 'X6', 'X7', 'X8', 'X9', 'X10', 'X11',\n",
              "       'X12'], dtype=object)"
            ]
          },
          "execution_count": 35,
          "metadata": {},
          "output_type": "execute_result"
        }
      ],
      "source": [
        "X_prev[:,0]"
      ]
    },
    {
      "cell_type": "code",
      "execution_count": 36,
      "metadata": {
        "colab": {
          "base_uri": "https://localhost:8080/"
        },
        "id": "P11D5o6rYG8H",
        "outputId": "74be2c2d-0a5f-4aff-cfee-bbf0ae8e4ac5"
      },
      "outputs": [
        {
          "data": {
            "text/plain": [
              "array([['X1', 'Sim', 'Não', 'Não', 'Sim', 'Alguns', 'RRR', 'Não', 'Sim',\n",
              "        'Francês'],\n",
              "       ['x2', 'Sim', 'Não', 'Não', 'Sim', 'Cheio', 'R', 'Não', 'Não',\n",
              "        'Tailandês'],\n",
              "       ['x3', 'Não', 'Sim', 'Não', 'Não', 'Alguns', 'R', 'Não', 'Não',\n",
              "        'Hamburger'],\n",
              "       ['x4', 'Sim', 'Não', 'Sim', 'Sim', 'Cheio', 'R', 'Sim', 'Não',\n",
              "        'Tailandês'],\n",
              "       ['X5', 'Sim', 'Não', 'Sim', 'Não', 'Cheio', 'RRR', 'Não', 'Sim',\n",
              "        'Francês'],\n",
              "       ['X6', 'Não', 'Sim', 'Não', 'Sim', 'Alguns', 'RR', 'Sim', 'Sim',\n",
              "        'Italiano'],\n",
              "       ['X7', 'Não', 'Sim', 'Não', 'Não', 'Nenhum', 'R', 'Sim', 'Não',\n",
              "        'Hamburger'],\n",
              "       ['X8', 'Não', 'Não', 'Não', 'Sim', 'Alguns', 'RR', 'Sim', 'Sim',\n",
              "        'Tailandês'],\n",
              "       ['X9', 'Não', 'Sim', 'Sim', 'Não', 'Cheio', 'R', 'Sim', 'Não',\n",
              "        'Hamburger'],\n",
              "       ['X10', 'Sim', 'Sim', 'Sim', 'Sim', 'Cheio', 'RRR', 'Não', 'Sim',\n",
              "        'Italiano'],\n",
              "       ['X11', 'Não', 'Não', 'Não', 'Não', 'Nenhum', 'R', 'Não', 'Não',\n",
              "        'Tailandês'],\n",
              "       ['X12', 'Sim', 'Sim', 'Sim', 'Sim', 'Cheio', 'R', 'Não', 'Não',\n",
              "        'Hamburger']], dtype=object)"
            ]
          },
          "execution_count": 36,
          "metadata": {},
          "output_type": "execute_result"
        }
      ],
      "source": [
        "X_prev"
      ]
    },
    {
      "cell_type": "code",
      "execution_count": 37,
      "metadata": {
        "id": "hEgGLwa_nDmk"
      },
      "outputs": [],
      "source": [
        "label_encoder_Alternativo = LabelEncoder()\n",
        "label_encoder_Bar = LabelEncoder()\n",
        "label_encoder_SexSab = LabelEncoder()\n",
        "label_encoder_fome = LabelEncoder()\n",
        "label_encoder_chuva = LabelEncoder()\n",
        "label_encoder_Res = LabelEncoder()"
      ]
    },
    {
      "cell_type": "code",
      "execution_count": 38,
      "metadata": {
        "id": "CPHvoFGynldw"
      },
      "outputs": [],
      "source": [
        "X_prev[:,0] = label_encoder_Alternativo.fit_transform(X_prev[:,0])\n",
        "X_prev[:,1] = label_encoder_Bar.fit_transform(X_prev[:,1])\n",
        "X_prev[:,2] = label_encoder_SexSab.fit_transform(X_prev[:,2])\n",
        "X_prev[:,3] = label_encoder_fome.fit_transform(X_prev[:,3])\n",
        "X_prev[:,6] = label_encoder_chuva.fit_transform(X_prev[:,6])\n",
        "X_prev[:,7] = label_encoder_Res.fit_transform(X_prev[:,7])\n"
      ]
    },
    {
      "cell_type": "code",
      "execution_count": 39,
      "metadata": {
        "colab": {
          "base_uri": "https://localhost:8080/"
        },
        "id": "phQP4ayIo7JC",
        "outputId": "045e4b81-2e95-4e40-9c6f-8ab7668a71be"
      },
      "outputs": [
        {
          "data": {
            "text/plain": [
              "array([[0, 1, 0, 0, 'Sim', 'Alguns', 2, 0, 'Sim', 'Francês'],\n",
              "       [9, 1, 0, 0, 'Sim', 'Cheio', 0, 0, 'Não', 'Tailandês'],\n",
              "       [10, 0, 1, 0, 'Não', 'Alguns', 0, 0, 'Não', 'Hamburger'],\n",
              "       [11, 1, 0, 1, 'Sim', 'Cheio', 0, 1, 'Não', 'Tailandês'],\n",
              "       [4, 1, 0, 1, 'Não', 'Cheio', 2, 0, 'Sim', 'Francês'],\n",
              "       [5, 0, 1, 0, 'Sim', 'Alguns', 1, 1, 'Sim', 'Italiano'],\n",
              "       [6, 0, 1, 0, 'Não', 'Nenhum', 0, 1, 'Não', 'Hamburger'],\n",
              "       [7, 0, 0, 0, 'Sim', 'Alguns', 1, 1, 'Sim', 'Tailandês'],\n",
              "       [8, 0, 1, 1, 'Não', 'Cheio', 0, 1, 'Não', 'Hamburger'],\n",
              "       [1, 1, 1, 1, 'Sim', 'Cheio', 2, 0, 'Sim', 'Italiano'],\n",
              "       [2, 0, 0, 0, 'Não', 'Nenhum', 0, 0, 'Não', 'Tailandês'],\n",
              "       [3, 1, 1, 1, 'Sim', 'Cheio', 0, 0, 'Não', 'Hamburger']],\n",
              "      dtype=object)"
            ]
          },
          "execution_count": 39,
          "metadata": {},
          "output_type": "execute_result"
        }
      ],
      "source": [
        "X_prev"
      ]
    },
    {
      "cell_type": "markdown",
      "metadata": {
        "id": "CdvWmHBWpNVf"
      },
      "source": [
        "\n",
        "\n",
        "> OneHotEncoder - Agora vamos binarizar atributos não ordinais"
      ]
    },
    {
      "cell_type": "markdown",
      "metadata": {
        "id": "tyfOlRYpuc9b"
      },
      "source": [
        "**Contando quantas opções de resposta tem cada atributo**"
      ]
    },
    {
      "cell_type": "code",
      "execution_count": 40,
      "metadata": {
        "colab": {
          "base_uri": "https://localhost:8080/"
        },
        "id": "aJkbkyXquPr1",
        "outputId": "dc040157-aaa4-4a66-b88e-cfe213159543"
      },
      "outputs": [
        {
          "data": {
            "text/plain": [
              "3"
            ]
          },
          "execution_count": 40,
          "metadata": {},
          "output_type": "execute_result"
        }
      ],
      "source": [
        "len(np.unique(base['Cliente'])) "
      ]
    },
    {
      "cell_type": "code",
      "execution_count": 41,
      "metadata": {
        "id": "abl6WdNRurkE"
      },
      "outputs": [],
      "source": [
        "from sklearn.preprocessing import OneHotEncoder\n",
        "from sklearn.compose import ColumnTransformer"
      ]
    },
    {
      "cell_type": "code",
      "execution_count": 42,
      "metadata": {
        "colab": {
          "base_uri": "https://localhost:8080/"
        },
        "id": "0motJ0N9yd8W",
        "outputId": "d688214a-5c7e-43c1-bbf8-36a65e90cf37"
      },
      "outputs": [
        {
          "data": {
            "text/plain": [
              "array([[0, 1, 0, 0, 'Sim', 'Alguns', 2, 0, 'Sim', 'Francês'],\n",
              "       [9, 1, 0, 0, 'Sim', 'Cheio', 0, 0, 'Não', 'Tailandês'],\n",
              "       [10, 0, 1, 0, 'Não', 'Alguns', 0, 0, 'Não', 'Hamburger'],\n",
              "       [11, 1, 0, 1, 'Sim', 'Cheio', 0, 1, 'Não', 'Tailandês'],\n",
              "       [4, 1, 0, 1, 'Não', 'Cheio', 2, 0, 'Sim', 'Francês'],\n",
              "       [5, 0, 1, 0, 'Sim', 'Alguns', 1, 1, 'Sim', 'Italiano'],\n",
              "       [6, 0, 1, 0, 'Não', 'Nenhum', 0, 1, 'Não', 'Hamburger'],\n",
              "       [7, 0, 0, 0, 'Sim', 'Alguns', 1, 1, 'Sim', 'Tailandês'],\n",
              "       [8, 0, 1, 1, 'Não', 'Cheio', 0, 1, 'Não', 'Hamburger'],\n",
              "       [1, 1, 1, 1, 'Sim', 'Cheio', 2, 0, 'Sim', 'Italiano'],\n",
              "       [2, 0, 0, 0, 'Não', 'Nenhum', 0, 0, 'Não', 'Tailandês'],\n",
              "       [3, 1, 1, 1, 'Sim', 'Cheio', 0, 0, 'Não', 'Hamburger']],\n",
              "      dtype=object)"
            ]
          },
          "execution_count": 42,
          "metadata": {},
          "output_type": "execute_result"
        }
      ],
      "source": [
        "X_prev"
      ]
    },
    {
      "cell_type": "code",
      "execution_count": 43,
      "metadata": {
        "colab": {
          "base_uri": "https://localhost:8080/"
        },
        "id": "4n4ZSB9bRN4j",
        "outputId": "24bf32f7-ae02-4576-a870-4a5fe0a2a36f"
      },
      "outputs": [
        {
          "data": {
            "text/plain": [
              "array([[0, 1, 0, 0, 'Sim', 'Alguns', 2, 0, 'Sim'],\n",
              "       [9, 1, 0, 0, 'Sim', 'Cheio', 0, 0, 'Não'],\n",
              "       [10, 0, 1, 0, 'Não', 'Alguns', 0, 0, 'Não'],\n",
              "       [11, 1, 0, 1, 'Sim', 'Cheio', 0, 1, 'Não'],\n",
              "       [4, 1, 0, 1, 'Não', 'Cheio', 2, 0, 'Sim'],\n",
              "       [5, 0, 1, 0, 'Sim', 'Alguns', 1, 1, 'Sim'],\n",
              "       [6, 0, 1, 0, 'Não', 'Nenhum', 0, 1, 'Não'],\n",
              "       [7, 0, 0, 0, 'Sim', 'Alguns', 1, 1, 'Sim'],\n",
              "       [8, 0, 1, 1, 'Não', 'Cheio', 0, 1, 'Não'],\n",
              "       [1, 1, 1, 1, 'Sim', 'Cheio', 2, 0, 'Sim'],\n",
              "       [2, 0, 0, 0, 'Não', 'Nenhum', 0, 0, 'Não'],\n",
              "       [3, 1, 1, 1, 'Sim', 'Cheio', 0, 0, 'Não']], dtype=object)"
            ]
          },
          "execution_count": 43,
          "metadata": {},
          "output_type": "execute_result"
        }
      ],
      "source": [
        "X_prev[:,0:9]"
      ]
    },
    {
      "cell_type": "code",
      "execution_count": 44,
      "metadata": {
        "id": "PKsgBg8CvVjt"
      },
      "outputs": [],
      "source": [
        "onehotencoder_restaurante = ColumnTransformer(transformers=[('OneHot', OneHotEncoder(), [4,5,8,9])], remainder='passthrough')\n"
      ]
    },
    {
      "cell_type": "code",
      "execution_count": 45,
      "metadata": {
        "id": "XxJI5AEAvo0u"
      },
      "outputs": [],
      "source": [
        "X_prev= onehotencoder_restaurante.fit_transform(X_prev)"
      ]
    },
    {
      "cell_type": "code",
      "execution_count": 46,
      "metadata": {
        "colab": {
          "base_uri": "https://localhost:8080/"
        },
        "id": "PpzcL-nixDQy",
        "outputId": "d7dde9ed-d537-4fab-f5c0-7a8459d2d251"
      },
      "outputs": [
        {
          "data": {
            "text/plain": [
              "array([[0.0, 1.0, 1.0, 0.0, 0.0, 0.0, 1.0, 1.0, 0.0, 0.0, 0.0, 0, 1, 0,\n",
              "        0, 2, 0],\n",
              "       [0.0, 1.0, 0.0, 1.0, 0.0, 1.0, 0.0, 0.0, 0.0, 0.0, 1.0, 9, 1, 0,\n",
              "        0, 0, 0],\n",
              "       [1.0, 0.0, 1.0, 0.0, 0.0, 1.0, 0.0, 0.0, 1.0, 0.0, 0.0, 10, 0, 1,\n",
              "        0, 0, 0],\n",
              "       [0.0, 1.0, 0.0, 1.0, 0.0, 1.0, 0.0, 0.0, 0.0, 0.0, 1.0, 11, 1, 0,\n",
              "        1, 0, 1],\n",
              "       [1.0, 0.0, 0.0, 1.0, 0.0, 0.0, 1.0, 1.0, 0.0, 0.0, 0.0, 4, 1, 0,\n",
              "        1, 2, 0],\n",
              "       [0.0, 1.0, 1.0, 0.0, 0.0, 0.0, 1.0, 0.0, 0.0, 1.0, 0.0, 5, 0, 1,\n",
              "        0, 1, 1],\n",
              "       [1.0, 0.0, 0.0, 0.0, 1.0, 1.0, 0.0, 0.0, 1.0, 0.0, 0.0, 6, 0, 1,\n",
              "        0, 0, 1],\n",
              "       [0.0, 1.0, 1.0, 0.0, 0.0, 0.0, 1.0, 0.0, 0.0, 0.0, 1.0, 7, 0, 0,\n",
              "        0, 1, 1],\n",
              "       [1.0, 0.0, 0.0, 1.0, 0.0, 1.0, 0.0, 0.0, 1.0, 0.0, 0.0, 8, 0, 1,\n",
              "        1, 0, 1],\n",
              "       [0.0, 1.0, 0.0, 1.0, 0.0, 0.0, 1.0, 0.0, 0.0, 1.0, 0.0, 1, 1, 1,\n",
              "        1, 2, 0],\n",
              "       [1.0, 0.0, 0.0, 0.0, 1.0, 1.0, 0.0, 0.0, 0.0, 0.0, 1.0, 2, 0, 0,\n",
              "        0, 0, 0],\n",
              "       [0.0, 1.0, 0.0, 1.0, 0.0, 1.0, 0.0, 0.0, 1.0, 0.0, 0.0, 3, 1, 1,\n",
              "        1, 0, 0]], dtype=object)"
            ]
          },
          "execution_count": 46,
          "metadata": {},
          "output_type": "execute_result"
        }
      ],
      "source": [
        "X_prev"
      ]
    },
    {
      "cell_type": "code",
      "execution_count": 47,
      "metadata": {
        "colab": {
          "base_uri": "https://localhost:8080/"
        },
        "id": "6YoPu2Vt8mMY",
        "outputId": "2e043d16-ddb7-4496-8322-0065dc8b68ef"
      },
      "outputs": [
        {
          "data": {
            "text/plain": [
              "(12, 17)"
            ]
          },
          "execution_count": 47,
          "metadata": {},
          "output_type": "execute_result"
        }
      ],
      "source": [
        "X_prev.shape"
      ]
    },
    {
      "cell_type": "markdown",
      "metadata": {
        "id": "e2DfYD9BZpUV"
      },
      "source": [
        "**Esta mesma transformação OneHotEncoder pode ser feita com o comando abaixo**"
      ]
    },
    {
      "cell_type": "code",
      "execution_count": null,
      "metadata": {
        "id": "BihvMTn8ZoHp"
      },
      "outputs": [],
      "source": [
        "#base = pd.get_dummies(X_prev_label)\n",
        "#base.head()"
      ]
    },
    {
      "cell_type": "markdown",
      "metadata": {
        "id": "9dxbazZBDX6H"
      },
      "source": [
        "**Método de amostragem Holdout**"
      ]
    },
    {
      "cell_type": "code",
      "execution_count": 48,
      "metadata": {
        "id": "_qGk4N4CK7LQ"
      },
      "outputs": [],
      "source": [
        "from sklearn.model_selection import train_test_split"
      ]
    },
    {
      "cell_type": "code",
      "execution_count": 49,
      "metadata": {
        "colab": {
          "base_uri": "https://localhost:8080/"
        },
        "id": "iSw7DIn3GuYn",
        "outputId": "7600cf84-de35-4f64-a6ed-93996cb6dc51"
      },
      "outputs": [
        {
          "data": {
            "text/plain": [
              "array([[0.0, 1.0, 1.0, 0.0, 0.0, 0.0, 1.0, 1.0, 0.0, 0.0, 0.0, 0, 1, 0,\n",
              "        0, 2, 0],\n",
              "       [0.0, 1.0, 0.0, 1.0, 0.0, 1.0, 0.0, 0.0, 0.0, 0.0, 1.0, 9, 1, 0,\n",
              "        0, 0, 0],\n",
              "       [1.0, 0.0, 1.0, 0.0, 0.0, 1.0, 0.0, 0.0, 1.0, 0.0, 0.0, 10, 0, 1,\n",
              "        0, 0, 0],\n",
              "       [0.0, 1.0, 0.0, 1.0, 0.0, 1.0, 0.0, 0.0, 0.0, 0.0, 1.0, 11, 1, 0,\n",
              "        1, 0, 1],\n",
              "       [1.0, 0.0, 0.0, 1.0, 0.0, 0.0, 1.0, 1.0, 0.0, 0.0, 0.0, 4, 1, 0,\n",
              "        1, 2, 0],\n",
              "       [0.0, 1.0, 1.0, 0.0, 0.0, 0.0, 1.0, 0.0, 0.0, 1.0, 0.0, 5, 0, 1,\n",
              "        0, 1, 1],\n",
              "       [1.0, 0.0, 0.0, 0.0, 1.0, 1.0, 0.0, 0.0, 1.0, 0.0, 0.0, 6, 0, 1,\n",
              "        0, 0, 1],\n",
              "       [0.0, 1.0, 1.0, 0.0, 0.0, 0.0, 1.0, 0.0, 0.0, 0.0, 1.0, 7, 0, 0,\n",
              "        0, 1, 1],\n",
              "       [1.0, 0.0, 0.0, 1.0, 0.0, 1.0, 0.0, 0.0, 1.0, 0.0, 0.0, 8, 0, 1,\n",
              "        1, 0, 1],\n",
              "       [0.0, 1.0, 0.0, 1.0, 0.0, 0.0, 1.0, 0.0, 0.0, 1.0, 0.0, 1, 1, 1,\n",
              "        1, 2, 0],\n",
              "       [1.0, 0.0, 0.0, 0.0, 1.0, 1.0, 0.0, 0.0, 0.0, 0.0, 1.0, 2, 0, 0,\n",
              "        0, 0, 0],\n",
              "       [0.0, 1.0, 0.0, 1.0, 0.0, 1.0, 0.0, 0.0, 1.0, 0.0, 0.0, 3, 1, 1,\n",
              "        1, 0, 0]], dtype=object)"
            ]
          },
          "execution_count": 49,
          "metadata": {},
          "output_type": "execute_result"
        }
      ],
      "source": [
        "X_prev"
      ]
    },
    {
      "cell_type": "code",
      "execution_count": 50,
      "metadata": {
        "colab": {
          "base_uri": "https://localhost:8080/"
        },
        "id": "y9YbfO5mGyuN",
        "outputId": "1d33ad59-dc7c-4506-f1a8-65d785131903"
      },
      "outputs": [
        {
          "data": {
            "text/plain": [
              "array(['0-10', '30-60', '0-10', 'out/30', '>60', '0-10', '0-10', '0-10',\n",
              "       '>60', 'out/30', '0-10', '30-60'], dtype=object)"
            ]
          },
          "execution_count": 50,
          "metadata": {},
          "output_type": "execute_result"
        }
      ],
      "source": [
        "y_classe"
      ]
    },
    {
      "cell_type": "code",
      "execution_count": 51,
      "metadata": {
        "colab": {
          "base_uri": "https://localhost:8080/"
        },
        "id": "BBaT0pZRIocD",
        "outputId": "3574ddf9-50cb-4e67-d7b3-3092c468c320"
      },
      "outputs": [
        {
          "data": {
            "text/plain": [
              "(12,)"
            ]
          },
          "execution_count": 51,
          "metadata": {},
          "output_type": "execute_result"
        }
      ],
      "source": [
        "y_classe.shape"
      ]
    },
    {
      "cell_type": "code",
      "execution_count": 52,
      "metadata": {
        "id": "BQ7sHFHmDz_b"
      },
      "outputs": [],
      "source": [
        "#X_train_ds, X_test_ds, y_train_ds, y_test_ds = train_test_split(X, y, test_size=0.3, random_state=123, shuffle=True, stratify=y)\n",
        "X_treino, X_teste, y_treino, y_teste = train_test_split(X_prev, y_classe, test_size = 0.20, random_state = 0)"
      ]
    },
    {
      "cell_type": "code",
      "execution_count": 53,
      "metadata": {
        "colab": {
          "base_uri": "https://localhost:8080/"
        },
        "id": "nXswVGPeK_HB",
        "outputId": "5f15c73c-2caa-42e9-8821-e9ef8aa2ecaa"
      },
      "outputs": [
        {
          "data": {
            "text/plain": [
              "(9, 17)"
            ]
          },
          "execution_count": 53,
          "metadata": {},
          "output_type": "execute_result"
        }
      ],
      "source": [
        "X_treino.shape"
      ]
    },
    {
      "cell_type": "code",
      "execution_count": 54,
      "metadata": {
        "colab": {
          "base_uri": "https://localhost:8080/"
        },
        "id": "Qt1gTVyxLAvS",
        "outputId": "2e342a5f-1b31-485e-8202-ae1f1fd7f77a"
      },
      "outputs": [
        {
          "data": {
            "text/plain": [
              "(3, 17)"
            ]
          },
          "execution_count": 54,
          "metadata": {},
          "output_type": "execute_result"
        }
      ],
      "source": [
        "X_teste.shape"
      ]
    },
    {
      "cell_type": "code",
      "execution_count": 55,
      "metadata": {
        "colab": {
          "base_uri": "https://localhost:8080/"
        },
        "id": "XmMPjC6A21vr",
        "outputId": "b51dccbf-ed1b-4027-9416-cd8f6e77f87c"
      },
      "outputs": [
        {
          "data": {
            "text/plain": [
              "array([[1.0, 0.0, 0.0, 0.0, 1.0, 1.0, 0.0, 0.0, 1.0, 0.0, 0.0, 6, 0, 1,\n",
              "        0, 0, 1],\n",
              "       [0.0, 1.0, 0.0, 1.0, 0.0, 1.0, 0.0, 0.0, 1.0, 0.0, 0.0, 3, 1, 1,\n",
              "        1, 0, 0],\n",
              "       [1.0, 0.0, 0.0, 1.0, 0.0, 0.0, 1.0, 1.0, 0.0, 0.0, 0.0, 4, 1, 0,\n",
              "        1, 2, 0]], dtype=object)"
            ]
          },
          "execution_count": 55,
          "metadata": {},
          "output_type": "execute_result"
        }
      ],
      "source": [
        "X_teste"
      ]
    },
    {
      "cell_type": "code",
      "execution_count": 56,
      "metadata": {
        "colab": {
          "base_uri": "https://localhost:8080/"
        },
        "id": "Nd8g6k2ALDbU",
        "outputId": "af848e1c-a500-4e29-95ff-8fe2f0f9ad8a"
      },
      "outputs": [
        {
          "data": {
            "text/plain": [
              "array(['0-10', '0-10', '>60', '30-60', '0-10', 'out/30', 'out/30', '0-10',\n",
              "       '0-10'], dtype=object)"
            ]
          },
          "execution_count": 56,
          "metadata": {},
          "output_type": "execute_result"
        }
      ],
      "source": [
        "y_treino"
      ]
    },
    {
      "cell_type": "code",
      "execution_count": 57,
      "metadata": {
        "colab": {
          "base_uri": "https://localhost:8080/"
        },
        "id": "8VliUzP_LH5G",
        "outputId": "39f02eca-72b0-4415-b844-66a79c006689"
      },
      "outputs": [
        {
          "data": {
            "text/plain": [
              "array(['0-10', '30-60', '>60'], dtype=object)"
            ]
          },
          "execution_count": 57,
          "metadata": {},
          "output_type": "execute_result"
        }
      ],
      "source": [
        "y_teste"
      ]
    },
    {
      "cell_type": "code",
      "execution_count": 58,
      "metadata": {
        "id": "zbE73RVVVPbW"
      },
      "outputs": [],
      "source": [
        "import pickle"
      ]
    },
    {
      "cell_type": "code",
      "execution_count": 59,
      "metadata": {
        "id": "v6E--H7lViHH"
      },
      "outputs": [],
      "source": [
        "with open('../_Base/restaurante.pkl', mode = 'wb') as f:\n",
        "  pickle.dump([X_treino, X_teste, y_treino, y_teste], f)"
      ]
    }
  ],
  "metadata": {
    "colab": {
      "collapsed_sections": [],
      "provenance": []
    },
    "kernelspec": {
      "display_name": "Python 3",
      "name": "python3"
    },
    "language_info": {
      "codemirror_mode": {
        "name": "ipython",
        "version": 3
      },
      "file_extension": ".py",
      "mimetype": "text/x-python",
      "name": "python",
      "nbconvert_exporter": "python",
      "pygments_lexer": "ipython3",
      "version": "3.10.12"
    }
  },
  "nbformat": 4,
  "nbformat_minor": 0
}
