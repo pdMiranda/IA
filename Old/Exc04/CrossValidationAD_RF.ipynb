{
  "cells": [
    {
      "cell_type": "markdown",
      "metadata": {
        "id": "_bPVTxb4akHi"
      },
      "source": [
        "**Vamos experimentar agora o algoritmo Decision Tree?**"
      ]
    },
    {
      "cell_type": "code",
      "execution_count": 8,
      "metadata": {
        "id": "fpe0EYaXiIPm"
      },
      "outputs": [],
      "source": [
        "!pip -q install yellowbrick"
      ]
    },
    {
      "cell_type": "code",
      "execution_count": 9,
      "metadata": {
        "id": "ru9xg6QIaceV"
      },
      "outputs": [],
      "source": [
        "import pandas as pd\n",
        "import numpy as np\n",
        "import seaborn as sns\n",
        "import matplotlib.pyplot as plt\n",
        "import plotly.express as px\n",
        "from sklearn.tree import DecisionTreeClassifier\n",
        "from sklearn.ensemble import RandomForestClassifier\n",
        "from sklearn.model_selection import cross_val_score\n",
        "from sklearn.metrics import accuracy_score, precision_score, recall_score, f1_score\n",
        "from sklearn.model_selection import KFold"
      ]
    },
    {
      "cell_type": "code",
      "execution_count": 10,
      "metadata": {
        "id": "STeZ46Y4bKfl"
      },
      "outputs": [],
      "source": [
        "import pickle\n",
        "with open('../Dados/iris.pkl', 'rb') as f:\n",
        "  X_treino, X_teste, y_treino, y_teste = pickle.load(f)"
      ]
    },
    {
      "cell_type": "markdown",
      "metadata": {
        "id": "Toi3zdRoGxLo"
      },
      "source": [
        "Usando o método de amostragem holdout"
      ]
    },
    {
      "cell_type": "code",
      "execution_count": 13,
      "metadata": {
        "id": "NKSzfX4-GwXX"
      },
      "outputs": [
        {
          "name": "stdout",
          "output_type": "stream",
          "text": [
            "Acurácia média da Árvore: [0.83333333 0.91666667 1.         0.91666667 0.91666667 1.\n",
            " 0.91666667 1.         0.91666667 1.        ] 0.9416666666666667 +- 0.05335936864527374\n",
            "Acurácia média do RF: [0.83333333 1.         1.         0.91666667 0.91666667 1.\n",
            " 0.91666667 1.         0.91666667 0.91666667] 0.9416666666666667 +- 0.053359368645273735\n"
          ]
        }
      ],
      "source": [
        "import pandas as pd\n",
        "import numpy as np\n",
        "import seaborn as sns\n",
        "import matplotlib.pyplot as plt\n",
        "import plotly.express as px\n",
        "from sklearn.tree import DecisionTreeClassifier\n",
        "from sklearn.ensemble import RandomForestClassifier\n",
        "from sklearn.model_selection import cross_val_score\n",
        "from sklearn.metrics import accuracy_score, precision_score, recall_score, f1_score\n",
        "from sklearn.model_selection import KFold\n",
        "import pickle\n",
        "\n",
        "with open('../Dados/iris.pkl', 'rb') as f:\n",
        "    X_treino, X_teste, y_treino, y_teste = pickle.load(f)\n",
        "\n",
        "kf = KFold(n_splits=10, shuffle=True, random_state=42)\n",
        "\n",
        "modelo = DecisionTreeClassifier(criterion='gini', max_depth=3)\n",
        "modelo2 = RandomForestClassifier(n_estimators=30, max_depth=5, max_features=\"sqrt\")\n",
        "scoresAD = cross_val_score(modelo, X_treino, y_treino, cv=kf)\n",
        "scoresRF = cross_val_score(modelo2, X_treino, y_treino, cv=kf)\n",
        "print(\"Acurácia média da Árvore:\", scoresAD, scoresAD.mean(), \"+-\", scoresAD.std())\n",
        "print(\"Acurácia média do RF:\", scoresRF, scoresRF.mean(), \"+-\", scoresRF.std())\n",
        "\n",
        "modelo.fit(X_treino, y_treino)\n",
        "\n",
        "test_score = modelo.score(X_teste, y_teste)\n"
      ]
    },
    {
      "cell_type": "code",
      "execution_count": null,
      "metadata": {
        "id": "XIrTn989EGtf"
      },
      "outputs": [],
      "source": []
    }
  ],
  "metadata": {
    "colab": {
      "provenance": []
    },
    "kernelspec": {
      "display_name": "Python 3",
      "name": "python3"
    },
    "language_info": {
      "codemirror_mode": {
        "name": "ipython",
        "version": 3
      },
      "file_extension": ".py",
      "mimetype": "text/x-python",
      "name": "python",
      "nbconvert_exporter": "python",
      "pygments_lexer": "ipython3",
      "version": "3.10.12"
    }
  },
  "nbformat": 4,
  "nbformat_minor": 0
}
