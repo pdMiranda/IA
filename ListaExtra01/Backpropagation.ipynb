{
 "cells": [
  {
   "cell_type": "code",
   "execution_count": 1,
   "metadata": {},
   "outputs": [],
   "source": [
    "import numpy as np"
   ]
  },
  {
   "cell_type": "code",
   "execution_count": 2,
   "metadata": {},
   "outputs": [],
   "source": [
    "def sigmoid(x):\n",
    "    return 1 / (1 + np.exp(-x))"
   ]
  },
  {
   "cell_type": "code",
   "execution_count": 3,
   "metadata": {},
   "outputs": [],
   "source": [
    "def sigmoid_derivative(x):\n",
    "    return x * (1 - x)\n"
   ]
  },
  {
   "cell_type": "code",
   "execution_count": 4,
   "metadata": {},
   "outputs": [],
   "source": [
    "class NeuralNetwork:\n",
    "    def __init__(self, x, y, n_hidden):\n",
    "        self.input = x\n",
    "        self.weights1 = np.random.rand(self.input.shape[1], n_hidden)\n",
    "        self.weights2 = np.random.rand(n_hidden, 1)\n",
    "        self.y = y\n",
    "        self.output = np.zeros(self.y.shape)\n",
    "\n",
    "    def feedforward(self):\n",
    "        self.layer1 = sigmoid(np.dot(self.input, self.weights1))\n",
    "        self.output = sigmoid(np.dot(self.layer1, self.weights2))\n",
    "\n",
    "    def backprop(self):\n",
    "        d_weights2 = np.dot(self.layer1.T, (2*(self.y - self.output) * sigmoid_derivative(self.output)))\n",
    "        d_weights1 = np.dot(self.input.T,  (np.dot(2*(self.y - self.output) * sigmoid_derivative(self.output), self.weights2.T) * sigmoid_derivative(self.layer1)))\n",
    "\n",
    "        self.weights1 += d_weights1\n",
    "        self.weights2 += d_weights2"
   ]
  },
  {
   "cell_type": "code",
   "execution_count": 7,
   "metadata": {},
   "outputs": [
    {
     "name": "stdout",
     "output_type": "stream",
     "text": [
      "[[2.95638942e-04]\n",
      " [1.31337965e-02]\n",
      " [1.27934079e-02]\n",
      " [9.80636267e-01]]\n",
      "[[0.02188957]\n",
      " [0.98767646]\n",
      " [0.98775252]\n",
      " [0.99647636]]\n",
      "[[0.03090091]\n",
      " [0.9748975 ]\n",
      " [0.97461113]\n",
      " [0.02354219]]\n"
     ]
    }
   ],
   "source": [
    "def solve_boolean_function(n, function):\n",
    "    if function == 'AND':\n",
    "        X = np.array([list(map(int, list(format(i, '0' + str(n) + 'b')))) for i in range(2**n)])\n",
    "        y = np.array([all(x) for x in X]).reshape(-1, 1)\n",
    "    elif function == 'OR':\n",
    "        X = np.array([list(map(int, list(format(i, '0' + str(n) + 'b')))) for i in range(2**n)])\n",
    "        y = np.array([any(x) for x in X]).reshape(-1, 1)\n",
    "    elif function == 'XOR':\n",
    "        X = np.array([[0, 0], [0, 1], [1, 0], [1, 1]])\n",
    "        y = np.array([[0], [1], [1], [0]])\n",
    "    else:\n",
    "        raise ValueError('Invalid function')\n",
    "\n",
    "    nn = NeuralNetwork(X, y, n_hidden=5)\n",
    "\n",
    "    for _ in range(2000):\n",
    "        nn.feedforward()\n",
    "        nn.backprop()\n",
    "\n",
    "    return nn.output\n"
   ]
  },
  {
   "cell_type": "code",
   "execution_count": 8,
   "metadata": {},
   "outputs": [
    {
     "name": "stdout",
     "output_type": "stream",
     "text": [
      "[[3.94905492e-04]\n",
      " [1.34273881e-02]\n",
      " [1.72308397e-02]\n",
      " [9.76566843e-01]]\n",
      "[[0.02047063]\n",
      " [0.98781147]\n",
      " [0.98849717]\n",
      " [0.99631125]]\n",
      "[[0.03257629]\n",
      " [0.97306899]\n",
      " [0.97106798]\n",
      " [0.0243505 ]]\n"
     ]
    }
   ],
   "source": [
    "print(solve_boolean_function(2, 'AND'))\n",
    "print(solve_boolean_function(2, 'OR'))\n",
    "print(solve_boolean_function(2, 'XOR'))"
   ]
  }
 ],
 "metadata": {
  "kernelspec": {
   "display_name": "Python 3",
   "language": "python",
   "name": "python3"
  },
  "language_info": {
   "codemirror_mode": {
    "name": "ipython",
    "version": 3
   },
   "file_extension": ".py",
   "mimetype": "text/x-python",
   "name": "python",
   "nbconvert_exporter": "python",
   "pygments_lexer": "ipython3",
   "version": "3.10.12"
  }
 },
 "nbformat": 4,
 "nbformat_minor": 2
}
