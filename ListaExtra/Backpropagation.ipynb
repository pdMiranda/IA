{
 "cells": [
  {
   "cell_type": "code",
   "execution_count": null,
   "metadata": {},
   "outputs": [],
   "source": [
    "import numpy as np"
   ]
  },
  {
   "cell_type": "code",
   "execution_count": null,
   "metadata": {},
   "outputs": [],
   "source": [
    "def sigmoid(x):\n",
    "    return 1 / (1 + np.exp(-x))"
   ]
  },
  {
   "cell_type": "code",
   "execution_count": null,
   "metadata": {},
   "outputs": [],
   "source": [
    "def sigmoid_derivative(x):\n",
    "    return x * (1 - x)\n"
   ]
  },
  {
   "cell_type": "code",
   "execution_count": null,
   "metadata": {},
   "outputs": [],
   "source": [
    "class NeuralNetwork:\n",
    "    def __init__(self, x, y, n_hidden):\n",
    "        self.input = x\n",
    "        self.weights1 = np.random.rand(self.input.shape[1], n_hidden)\n",
    "        self.weights2 = np.random.rand(n_hidden, 1)\n",
    "        self.y = y\n",
    "        self.output = np.zeros(self.y.shape)\n",
    "\n",
    "    def feedforward(self):\n",
    "        self.layer1 = sigmoid(np.dot(self.input, self.weights1))\n",
    "        self.output = sigmoid(np.dot(self.layer1, self.weights2))\n",
    "\n",
    "    def backprop(self):\n",
    "        d_weights2 = np.dot(self.layer1.T, (2*(self.y - self.output) * sigmoid_derivative(self.output)))\n",
    "        d_weights1 = np.dot(self.input.T,  (np.dot(2*(self.y - self.output) * sigmoid_derivative(self.output), self.weights2.T) * sigmoid_derivative(self.layer1)))\n",
    "\n",
    "        self.weights1 += d_weights1\n",
    "        self.weights2 += d_weights2"
   ]
  },
  {
   "cell_type": "code",
   "execution_count": null,
   "metadata": {},
   "outputs": [],
   "source": [
    "def solve_boolean_function(n, function):\n",
    "    if function == 'AND':\n",
    "        X = np.array([list(map(int, list(format(i, '0' + str(n) + 'b')))) for i in range(2**n)])\n",
    "        y = np.array([all(x) for x in X]).reshape(-1, 1)\n",
    "    elif function == 'OR':\n",
    "        X = np.array([list(map(int, list(format(i, '0' + str(n) + 'b')))) for i in range(2**n)])\n",
    "        y = np.array([any(x) for x in X]).reshape(-1, 1)\n",
    "    elif function == 'XOR':\n",
    "        X = np.array([[0, 0], [0, 1], [1, 0], [1, 1]])\n",
    "        y = np.array([[0], [1], [1], [0]])\n",
    "    else:\n",
    "        raise ValueError('Invalid function')\n",
    "\n",
    "    nn = NeuralNetwork(X, y, n_hidden=5)\n",
    "\n",
    "    for _ in range(2000):\n",
    "        nn.feedforward()\n",
    "        nn.backprop()\n",
    "\n",
    "    return nn.output"
   ]
  },
  {
   "cell_type": "code",
   "execution_count": null,
   "metadata": {},
   "outputs": [],
   "source": [
    "print(solve_boolean_function(2, 'AND'))\n",
    "print(solve_boolean_function(2, 'OR'))\n",
    "print(solve_boolean_function(2, 'XOR'))"
   ]
  }
 ],
 "metadata": {
  "language_info": {
   "name": "python"
  }
 },
 "nbformat": 4,
 "nbformat_minor": 2
}
